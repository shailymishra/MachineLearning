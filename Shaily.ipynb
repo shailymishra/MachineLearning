{
 "cells": [
  {
   "cell_type": "code",
   "execution_count": 2,
   "id": "7cef6990",
   "metadata": {},
   "outputs": [],
   "source": [
    "import pandas as pd"
   ]
  },
  {
   "cell_type": "code",
   "execution_count": 4,
   "id": "981cb1a5",
   "metadata": {},
   "outputs": [
    {
     "data": {
      "text/plain": [
       "(24, 8)"
      ]
     },
     "execution_count": 4,
     "metadata": {},
     "output_type": "execute_result"
    }
   ],
   "source": [
    "df_data = pd.read_csv('input_data.csv')\n",
    "\n",
    "df_data.shape"
   ]
  },
  {
   "cell_type": "code",
   "execution_count": 4,
   "id": "70a840e1",
   "metadata": {},
   "outputs": [
    {
     "data": {
      "text/html": [
       "<div>\n",
       "<style scoped>\n",
       "    .dataframe tbody tr th:only-of-type {\n",
       "        vertical-align: middle;\n",
       "    }\n",
       "\n",
       "    .dataframe tbody tr th {\n",
       "        vertical-align: top;\n",
       "    }\n",
       "\n",
       "    .dataframe thead th {\n",
       "        text-align: right;\n",
       "    }\n",
       "</style>\n",
       "<table border=\"1\" class=\"dataframe\">\n",
       "  <thead>\n",
       "    <tr style=\"text-align: right;\">\n",
       "      <th></th>\n",
       "      <th>CustomerID</th>\n",
       "      <th>Month</th>\n",
       "      <th>ACR</th>\n",
       "      <th>#OfProductsUsing</th>\n",
       "      <th>Usage(Units)</th>\n",
       "      <th>Firmographic Area</th>\n",
       "      <th>Segment</th>\n",
       "      <th>PageView_Count</th>\n",
       "    </tr>\n",
       "  </thead>\n",
       "  <tbody>\n",
       "    <tr>\n",
       "      <th>0</th>\n",
       "      <td>d66c4366-7e61-45b5-8642-e0d549c2d1ce</td>\n",
       "      <td>20250101</td>\n",
       "      <td>117943</td>\n",
       "      <td>49</td>\n",
       "      <td>2407</td>\n",
       "      <td>Germany</td>\n",
       "      <td>Strategic Commercial</td>\n",
       "      <td>49</td>\n",
       "    </tr>\n",
       "    <tr>\n",
       "      <th>1</th>\n",
       "      <td>d66c4366-7e61-45b5-8642-e0d549c2d1ce</td>\n",
       "      <td>20250201</td>\n",
       "      <td>96816</td>\n",
       "      <td>46</td>\n",
       "      <td>2017</td>\n",
       "      <td>Germany</td>\n",
       "      <td>Strategic Commercial</td>\n",
       "      <td>31</td>\n",
       "    </tr>\n",
       "    <tr>\n",
       "      <th>2</th>\n",
       "      <td>d66c4366-7e61-45b5-8642-e0d549c2d1ce</td>\n",
       "      <td>20250301</td>\n",
       "      <td>84870</td>\n",
       "      <td>47</td>\n",
       "      <td>1886</td>\n",
       "      <td>Germany</td>\n",
       "      <td>Strategic Commercial</td>\n",
       "      <td>2</td>\n",
       "    </tr>\n",
       "    <tr>\n",
       "      <th>3</th>\n",
       "      <td>d66c4366-7e61-45b5-8642-e0d549c2d1ce</td>\n",
       "      <td>20250401</td>\n",
       "      <td>76266</td>\n",
       "      <td>46</td>\n",
       "      <td>2007</td>\n",
       "      <td>Germany</td>\n",
       "      <td>Strategic Commercial</td>\n",
       "      <td>50</td>\n",
       "    </tr>\n",
       "    <tr>\n",
       "      <th>4</th>\n",
       "      <td>d66c4366-7e61-45b5-8642-e0d549c2d1ce</td>\n",
       "      <td>20250501</td>\n",
       "      <td>114560</td>\n",
       "      <td>45</td>\n",
       "      <td>2864</td>\n",
       "      <td>Germany</td>\n",
       "      <td>Strategic Commercial</td>\n",
       "      <td>44</td>\n",
       "    </tr>\n",
       "  </tbody>\n",
       "</table>\n",
       "</div>"
      ],
      "text/plain": [
       "                             CustomerID     Month     ACR  #OfProductsUsing  \\\n",
       "0  d66c4366-7e61-45b5-8642-e0d549c2d1ce  20250101  117943                49   \n",
       "1  d66c4366-7e61-45b5-8642-e0d549c2d1ce  20250201   96816                46   \n",
       "2  d66c4366-7e61-45b5-8642-e0d549c2d1ce  20250301   84870                47   \n",
       "3  d66c4366-7e61-45b5-8642-e0d549c2d1ce  20250401   76266                46   \n",
       "4  d66c4366-7e61-45b5-8642-e0d549c2d1ce  20250501  114560                45   \n",
       "\n",
       "   Usage(Units) Firmographic Area               Segment  PageView_Count  \n",
       "0          2407           Germany  Strategic Commercial              49  \n",
       "1          2017           Germany  Strategic Commercial              31  \n",
       "2          1886           Germany  Strategic Commercial               2  \n",
       "3          2007           Germany  Strategic Commercial              50  \n",
       "4          2864           Germany  Strategic Commercial              44  "
      ]
     },
     "execution_count": 4,
     "metadata": {},
     "output_type": "execute_result"
    }
   ],
   "source": [
    "df_data.head()"
   ]
  },
  {
   "cell_type": "code",
   "execution_count": 5,
   "id": "504ea151",
   "metadata": {},
   "outputs": [
    {
     "data": {
      "text/plain": [
       "CustomerID           object\n",
       "Month                 int64\n",
       "ACR                   int64\n",
       "#OfProductsUsing      int64\n",
       "Usage(Units)          int64\n",
       "Firmographic Area    object\n",
       "Segment              object\n",
       "PageView_Count        int64\n",
       "dtype: object"
      ]
     },
     "execution_count": 5,
     "metadata": {},
     "output_type": "execute_result"
    }
   ],
   "source": [
    "df_data.dtypes"
   ]
  },
  {
   "cell_type": "code",
   "execution_count": null,
   "id": "f68d1ec3",
   "metadata": {},
   "outputs": [],
   "source": [
    "#1. Write python and sql code for finding the month for each customer having highest ACR.\n",
    "\n",
    "\n",
    "#Step1 :  within each customer , find the month having max ACR\n",
    "\n",
    "\n",
    "max_acr_month = df_data.groupby(['CustomerID','Month']).agg({'ACR':'max'}).reset_index().sort_values(ascending=False, by='ACR')\n",
    "\n",
    "top_month = max_acr_month.groupby(['CustomerID']).agg({'ACR':'first', 'Month':'first'})\n",
    "\n",
    "# With max_acr_ctr as (\n",
    "#     SELECT  CustomerId, month, ACR, rank_over () partition over( CustomerID  ORDER BY ACR DESC) as row_number\n",
    "# FROM df_data\n",
    "# )\n",
    "# SELECT CustomerId, month, ACR\n",
    "# FROM max_acr_ctr\n",
    "# WHERE row_number == 1\n",
    "\n",
    "# SELECT CustomerId, month, rank_over () partition over( CustomerID  ORDER BY ACR DESC) as row_number\n",
    "# FROM df_data\n",
    "# WHERE row_number == 1\n",
    "\n",
    "\n"
   ]
  },
  {
   "cell_type": "code",
   "execution_count": 24,
   "id": "7f722dc3",
   "metadata": {},
   "outputs": [
    {
     "data": {
      "text/html": [
       "<div>\n",
       "<style scoped>\n",
       "    .dataframe tbody tr th:only-of-type {\n",
       "        vertical-align: middle;\n",
       "    }\n",
       "\n",
       "    .dataframe tbody tr th {\n",
       "        vertical-align: top;\n",
       "    }\n",
       "\n",
       "    .dataframe thead th {\n",
       "        text-align: right;\n",
       "    }\n",
       "</style>\n",
       "<table border=\"1\" class=\"dataframe\">\n",
       "  <thead>\n",
       "    <tr style=\"text-align: right;\">\n",
       "      <th></th>\n",
       "      <th>ACR</th>\n",
       "      <th>Month</th>\n",
       "    </tr>\n",
       "    <tr>\n",
       "      <th>CustomerID</th>\n",
       "      <th></th>\n",
       "      <th></th>\n",
       "    </tr>\n",
       "  </thead>\n",
       "  <tbody>\n",
       "    <tr>\n",
       "      <th>0de62945-c4f6-4b8b-9431-7f7f08ae590e</th>\n",
       "      <td>28449</td>\n",
       "      <td>20250701</td>\n",
       "    </tr>\n",
       "    <tr>\n",
       "      <th>d66c4366-7e61-45b5-8642-e0d549c2d1ce</th>\n",
       "      <td>117943</td>\n",
       "      <td>20250101</td>\n",
       "    </tr>\n",
       "  </tbody>\n",
       "</table>\n",
       "</div>"
      ],
      "text/plain": [
       "                                         ACR     Month\n",
       "CustomerID                                            \n",
       "0de62945-c4f6-4b8b-9431-7f7f08ae590e   28449  20250701\n",
       "d66c4366-7e61-45b5-8642-e0d549c2d1ce  117943  20250101"
      ]
     },
     "execution_count": 24,
     "metadata": {},
     "output_type": "execute_result"
    }
   ],
   "source": [
    "top_month"
   ]
  },
  {
   "cell_type": "code",
   "execution_count": 5,
   "id": "f698e881",
   "metadata": {},
   "outputs": [],
   "source": [
    "# 2. Write python and sql code for creating a feature table out of the data given at customer level.\n",
    "# For numerical columns, create sum(ACR), max(#OfProducts), sum(Usage), sum(PageView).\n",
    "# Encode the Categorical column.\n",
    "\n",
    "## customerId, sum(ACR) as SUm_ACR, \n",
    "\n",
    "\n",
    "df_feature_customer = df_data.groupby(['CustomerID']).agg({'ACR':'sum','#OfProductsUsing':'max',\n",
    "                                                           'Usage(Units)':'sum', 'PageView_Count':'sum','Firmographic Area':'first','Segment':'first'\n",
    "                                                           }).reset_index()\n",
    "\n",
    "\n",
    "\n",
    "\n",
    "# df_feature_customer_\n"
   ]
  },
  {
   "cell_type": "code",
   "execution_count": 12,
   "id": "8d9c9934",
   "metadata": {},
   "outputs": [
    {
     "data": {
      "text/html": [
       "<div>\n",
       "<style scoped>\n",
       "    .dataframe tbody tr th:only-of-type {\n",
       "        vertical-align: middle;\n",
       "    }\n",
       "\n",
       "    .dataframe tbody tr th {\n",
       "        vertical-align: top;\n",
       "    }\n",
       "\n",
       "    .dataframe thead th {\n",
       "        text-align: right;\n",
       "    }\n",
       "</style>\n",
       "<table border=\"1\" class=\"dataframe\">\n",
       "  <thead>\n",
       "    <tr style=\"text-align: right;\">\n",
       "      <th></th>\n",
       "      <th>CustomerID</th>\n",
       "      <th>ACR</th>\n",
       "      <th>#OfProductsUsing</th>\n",
       "      <th>Usage(Units)</th>\n",
       "      <th>PageView_Count</th>\n",
       "      <th>Firmographic Area</th>\n",
       "      <th>Segment</th>\n",
       "    </tr>\n",
       "  </thead>\n",
       "  <tbody>\n",
       "    <tr>\n",
       "      <th>0</th>\n",
       "      <td>0de62945-c4f6-4b8b-9431-7f7f08ae590e</td>\n",
       "      <td>228370</td>\n",
       "      <td>30</td>\n",
       "      <td>8992</td>\n",
       "      <td>300</td>\n",
       "      <td>UK</td>\n",
       "      <td>Small, Medium &amp; Corporate Com</td>\n",
       "    </tr>\n",
       "    <tr>\n",
       "      <th>1</th>\n",
       "      <td>d66c4366-7e61-45b5-8642-e0d549c2d1ce</td>\n",
       "      <td>982490</td>\n",
       "      <td>50</td>\n",
       "      <td>23331</td>\n",
       "      <td>406</td>\n",
       "      <td>Germany</td>\n",
       "      <td>Strategic Commercial</td>\n",
       "    </tr>\n",
       "  </tbody>\n",
       "</table>\n",
       "</div>"
      ],
      "text/plain": [
       "                             CustomerID     ACR  #OfProductsUsing  \\\n",
       "0  0de62945-c4f6-4b8b-9431-7f7f08ae590e  228370                30   \n",
       "1  d66c4366-7e61-45b5-8642-e0d549c2d1ce  982490                50   \n",
       "\n",
       "   Usage(Units)  PageView_Count Firmographic Area  \\\n",
       "0          8992             300                UK   \n",
       "1         23331             406           Germany   \n",
       "\n",
       "                         Segment  \n",
       "0  Small, Medium & Corporate Com  \n",
       "1           Strategic Commercial  "
      ]
     },
     "execution_count": 12,
     "metadata": {},
     "output_type": "execute_result"
    }
   ],
   "source": [
    "df_feature_customer"
   ]
  },
  {
   "cell_type": "code",
   "execution_count": 6,
   "id": "e0e3fb21",
   "metadata": {},
   "outputs": [],
   "source": [
    "\n",
    "df_data['Firmographic Area'].nunique()\n",
    "## < 10 category\n",
    "df_feature_firmographarea = pd.get_dummies(df_feature_customer['Firmographic Area'])\n",
    "df_feature_segment = pd.get_dummies(df_feature_customer['Segment'])"
   ]
  },
  {
   "cell_type": "code",
   "execution_count": 7,
   "id": "3651431a",
   "metadata": {},
   "outputs": [],
   "source": [
    "# df_feature_customer.merg\n",
    "\n",
    "df_feature_customer_features = pd.concat([df_feature_customer,df_feature_firmographarea],axis=1)\n",
    "df_feature_customer_features = pd.concat([df_feature_customer_features,df_feature_segment],axis=1)"
   ]
  },
  {
   "cell_type": "code",
   "execution_count": 8,
   "id": "c6f2d5f7",
   "metadata": {},
   "outputs": [],
   "source": [
    "df_feature_customer_features= df_feature_customer_features.drop(['Firmographic Area','Segment'],axis=1)"
   ]
  },
  {
   "cell_type": "code",
   "execution_count": 9,
   "id": "dc2a4774",
   "metadata": {},
   "outputs": [
    {
     "data": {
      "text/html": [
       "<div>\n",
       "<style scoped>\n",
       "    .dataframe tbody tr th:only-of-type {\n",
       "        vertical-align: middle;\n",
       "    }\n",
       "\n",
       "    .dataframe tbody tr th {\n",
       "        vertical-align: top;\n",
       "    }\n",
       "\n",
       "    .dataframe thead th {\n",
       "        text-align: right;\n",
       "    }\n",
       "</style>\n",
       "<table border=\"1\" class=\"dataframe\">\n",
       "  <thead>\n",
       "    <tr style=\"text-align: right;\">\n",
       "      <th></th>\n",
       "      <th>CustomerID</th>\n",
       "      <th>ACR</th>\n",
       "      <th>#OfProductsUsing</th>\n",
       "      <th>Usage(Units)</th>\n",
       "      <th>PageView_Count</th>\n",
       "      <th>Germany</th>\n",
       "      <th>UK</th>\n",
       "      <th>Small, Medium &amp; Corporate Com</th>\n",
       "      <th>Strategic Commercial</th>\n",
       "    </tr>\n",
       "  </thead>\n",
       "  <tbody>\n",
       "    <tr>\n",
       "      <th>0</th>\n",
       "      <td>0de62945-c4f6-4b8b-9431-7f7f08ae590e</td>\n",
       "      <td>228370</td>\n",
       "      <td>30</td>\n",
       "      <td>8992</td>\n",
       "      <td>300</td>\n",
       "      <td>False</td>\n",
       "      <td>True</td>\n",
       "      <td>True</td>\n",
       "      <td>False</td>\n",
       "    </tr>\n",
       "    <tr>\n",
       "      <th>1</th>\n",
       "      <td>d66c4366-7e61-45b5-8642-e0d549c2d1ce</td>\n",
       "      <td>982490</td>\n",
       "      <td>50</td>\n",
       "      <td>23331</td>\n",
       "      <td>406</td>\n",
       "      <td>True</td>\n",
       "      <td>False</td>\n",
       "      <td>False</td>\n",
       "      <td>True</td>\n",
       "    </tr>\n",
       "  </tbody>\n",
       "</table>\n",
       "</div>"
      ],
      "text/plain": [
       "                             CustomerID     ACR  #OfProductsUsing  \\\n",
       "0  0de62945-c4f6-4b8b-9431-7f7f08ae590e  228370                30   \n",
       "1  d66c4366-7e61-45b5-8642-e0d549c2d1ce  982490                50   \n",
       "\n",
       "   Usage(Units)  PageView_Count  Germany     UK  \\\n",
       "0          8992             300    False   True   \n",
       "1         23331             406     True  False   \n",
       "\n",
       "   Small, Medium & Corporate Com  Strategic Commercial  \n",
       "0                           True                 False  \n",
       "1                          False                  True  "
      ]
     },
     "execution_count": 9,
     "metadata": {},
     "output_type": "execute_result"
    }
   ],
   "source": [
    "df_feature_customer_features"
   ]
  },
  {
   "cell_type": "code",
   "execution_count": 11,
   "id": "5d3ffa24",
   "metadata": {},
   "outputs": [],
   "source": [
    "# 3. Given the actual commitment of the customer now, develop an ML model(Regression Model), evaluate the model performance.\n",
    "\n",
    "import pandas as pd\n",
    "df_actual_commitment = pd.read_csv('actual_commitment.csv')\n",
    "\n"
   ]
  },
  {
   "cell_type": "code",
   "execution_count": 16,
   "id": "1c398599",
   "metadata": {},
   "outputs": [
    {
     "data": {
      "text/plain": [
       "CustomerID               object\n",
       "MACC Commitment Value     int64\n",
       "dtype: object"
      ]
     },
     "execution_count": 16,
     "metadata": {},
     "output_type": "execute_result"
    }
   ],
   "source": [
    "df_actual_commitment.head()\n",
    "\n",
    "df_actual_commitment.dtypes"
   ]
  },
  {
   "cell_type": "code",
   "execution_count": null,
   "id": "2498a759",
   "metadata": {},
   "outputs": [
    {
     "data": {
      "text/html": [
       "<div>\n",
       "<style scoped>\n",
       "    .dataframe tbody tr th:only-of-type {\n",
       "        vertical-align: middle;\n",
       "    }\n",
       "\n",
       "    .dataframe tbody tr th {\n",
       "        vertical-align: top;\n",
       "    }\n",
       "\n",
       "    .dataframe thead th {\n",
       "        text-align: right;\n",
       "    }\n",
       "</style>\n",
       "<table border=\"1\" class=\"dataframe\">\n",
       "  <thead>\n",
       "    <tr style=\"text-align: right;\">\n",
       "      <th></th>\n",
       "      <th>CustomerID</th>\n",
       "      <th>ACR</th>\n",
       "      <th>#OfProductsUsing</th>\n",
       "      <th>Usage(Units)</th>\n",
       "      <th>PageView_Count</th>\n",
       "      <th>Germany</th>\n",
       "      <th>UK</th>\n",
       "      <th>Small, Medium &amp; Corporate Com</th>\n",
       "      <th>Strategic Commercial</th>\n",
       "      <th>MACC Commitment Value</th>\n",
       "    </tr>\n",
       "  </thead>\n",
       "  <tbody>\n",
       "    <tr>\n",
       "      <th>0</th>\n",
       "      <td>0de62945-c4f6-4b8b-9431-7f7f08ae590e</td>\n",
       "      <td>228370</td>\n",
       "      <td>30</td>\n",
       "      <td>8992</td>\n",
       "      <td>300</td>\n",
       "      <td>False</td>\n",
       "      <td>True</td>\n",
       "      <td>True</td>\n",
       "      <td>False</td>\n",
       "      <td>250000</td>\n",
       "    </tr>\n",
       "    <tr>\n",
       "      <th>1</th>\n",
       "      <td>d66c4366-7e61-45b5-8642-e0d549c2d1ce</td>\n",
       "      <td>982490</td>\n",
       "      <td>50</td>\n",
       "      <td>23331</td>\n",
       "      <td>406</td>\n",
       "      <td>True</td>\n",
       "      <td>False</td>\n",
       "      <td>False</td>\n",
       "      <td>True</td>\n",
       "      <td>500000</td>\n",
       "    </tr>\n",
       "  </tbody>\n",
       "</table>\n",
       "</div>"
      ],
      "text/plain": [
       "                             CustomerID     ACR  #OfProductsUsing  \\\n",
       "0  0de62945-c4f6-4b8b-9431-7f7f08ae590e  228370                30   \n",
       "1  d66c4366-7e61-45b5-8642-e0d549c2d1ce  982490                50   \n",
       "\n",
       "   Usage(Units)  PageView_Count  Germany     UK  \\\n",
       "0          8992             300    False   True   \n",
       "1         23331             406     True  False   \n",
       "\n",
       "   Small, Medium & Corporate Com  Strategic Commercial  MACC Commitment Value  \n",
       "0                           True                 False                 250000  \n",
       "1                          False                  True                 500000  "
      ]
     },
     "execution_count": 18,
     "metadata": {},
     "output_type": "execute_result"
    }
   ],
   "source": [
    "df_feature_customers_withcommitmentvalues = df_feature_customer_features.merge(df_actual_commitment, on='CustomerID', how='left')\n",
    "\n",
    "df_feature_customers_withcommitmentvalues\n",
    "\n",
    "\n"
   ]
  },
  {
   "cell_type": "code",
   "execution_count": null,
   "id": "0094f0b3",
   "metadata": {},
   "outputs": [],
   "source": [
    "# from sklearn import \n",
    "\n",
    "### first convert this cat varibale into 0,1\n",
    "### target varibale y , X  (reemove customerId from X)\n",
    "\n",
    "\n",
    "\n",
    "X_train,y_train,X_test,y_test = train_test_split(X,y , split= 0.5, random_state = 42)"
   ]
  },
  {
   "cell_type": "code",
   "execution_count": null,
   "id": "4f9c3481",
   "metadata": {},
   "outputs": [],
   "source": [
    "### Linear Regression\n",
    "### RandomForrestRegression , treebasedregresson\n",
    "\n",
    "\n",
    "## lr = 0.01 \n",
    "### mse \n",
    "# import LinearRegression \n"
   ]
  },
  {
   "cell_type": "code",
   "execution_count": null,
   "id": "7bfe5baf",
   "metadata": {},
   "outputs": [],
   "source": [
    "## R^2 \n"
   ]
  },
  {
   "cell_type": "code",
   "execution_count": null,
   "id": "c0035d32",
   "metadata": {},
   "outputs": [],
   "source": [
    "# Classification\n",
    "## accurary ,\n",
    "## precision -> positive class to clasificed prevents false positive\n",
    "## recall -> false negative to be more , if someone has disease and we want to prevent false negative\n",
    "## f1 score\n",
    "\n",
    "## ROC -> precision, recall\n",
    "## \n",
    "\n"
   ]
  },
  {
   "cell_type": "code",
   "execution_count": null,
   "id": "c26534ea",
   "metadata": {},
   "outputs": [],
   "source": [
    "### imbalance in region how to make sure\n",
    "\n",
    "### SMOTE : \n",
    "\n",
    "### stratfied sampling "
   ]
  },
  {
   "cell_type": "code",
   "execution_count": null,
   "id": "eb28431d",
   "metadata": {},
   "outputs": [],
   "source": [
    "## undersampling : conversion is 1 \n",
    "\n"
   ]
  }
 ],
 "metadata": {
  "kernelspec": {
   "display_name": "Python 3",
   "language": "python",
   "name": "python3"
  },
  "language_info": {
   "codemirror_mode": {
    "name": "ipython",
    "version": 3
   },
   "file_extension": ".py",
   "mimetype": "text/x-python",
   "name": "python",
   "nbconvert_exporter": "python",
   "pygments_lexer": "ipython3",
   "version": "3.13.2"
  }
 },
 "nbformat": 4,
 "nbformat_minor": 5
}
