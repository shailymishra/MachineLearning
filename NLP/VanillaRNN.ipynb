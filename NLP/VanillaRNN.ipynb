{
 "cells": [
  {
   "cell_type": "code",
   "execution_count": 10,
   "id": "c0272cae",
   "metadata": {},
   "outputs": [
    {
     "data": {
      "application/vnd.jupyter.widget-view+json": {
       "model_id": "8c0e1ff2b7454362995aefdf01b16f25",
       "version_major": 2,
       "version_minor": 0
      },
      "text/plain": [
       "README.md:   0%|          | 0.00/7.81k [00:00<?, ?B/s]"
      ]
     },
     "metadata": {},
     "output_type": "display_data"
    },
    {
     "name": "stderr",
     "output_type": "stream",
     "text": [
      "c:\\Users\\shailymishra\\AppData\\Local\\Programs\\Python\\Python313\\Lib\\site-packages\\huggingface_hub\\file_download.py:143: UserWarning: `huggingface_hub` cache-system uses symlinks by default to efficiently store duplicated files but your machine does not support them in C:\\Users\\shailymishra\\.cache\\huggingface\\hub\\datasets--imdb. Caching files will still work but in a degraded version that might require more space on your disk. This warning can be disabled by setting the `HF_HUB_DISABLE_SYMLINKS_WARNING` environment variable. For more details, see https://huggingface.co/docs/huggingface_hub/how-to-cache#limitations.\n",
      "To support symlinks on Windows, you either need to activate Developer Mode or to run Python as an administrator. In order to activate developer mode, see this article: https://docs.microsoft.com/en-us/windows/apps/get-started/enable-your-device-for-development\n",
      "  warnings.warn(message)\n"
     ]
    },
    {
     "data": {
      "application/vnd.jupyter.widget-view+json": {
       "model_id": "9eb1feb9c17c421da0ea811a0cb03ffa",
       "version_major": 2,
       "version_minor": 0
      },
      "text/plain": [
       "train-00000-of-00001.parquet:   0%|          | 0.00/21.0M [00:00<?, ?B/s]"
      ]
     },
     "metadata": {},
     "output_type": "display_data"
    },
    {
     "data": {
      "application/vnd.jupyter.widget-view+json": {
       "model_id": "c57bb30fec8544e6a78caf81fdb1397a",
       "version_major": 2,
       "version_minor": 0
      },
      "text/plain": [
       "test-00000-of-00001.parquet:   0%|          | 0.00/20.5M [00:00<?, ?B/s]"
      ]
     },
     "metadata": {},
     "output_type": "display_data"
    },
    {
     "data": {
      "application/vnd.jupyter.widget-view+json": {
       "model_id": "16139c457b7f47d5b746ef5fae7a1e13",
       "version_major": 2,
       "version_minor": 0
      },
      "text/plain": [
       "unsupervised-00000-of-00001.parquet:   0%|          | 0.00/42.0M [00:00<?, ?B/s]"
      ]
     },
     "metadata": {},
     "output_type": "display_data"
    },
    {
     "data": {
      "application/vnd.jupyter.widget-view+json": {
       "model_id": "f9eee8ced2b74b3284f4e02f5bef2623",
       "version_major": 2,
       "version_minor": 0
      },
      "text/plain": [
       "Generating train split:   0%|          | 0/25000 [00:00<?, ? examples/s]"
      ]
     },
     "metadata": {},
     "output_type": "display_data"
    },
    {
     "data": {
      "application/vnd.jupyter.widget-view+json": {
       "model_id": "c15ec21e3f6e4ed8b53c742bb25d7ae1",
       "version_major": 2,
       "version_minor": 0
      },
      "text/plain": [
       "Generating test split:   0%|          | 0/25000 [00:00<?, ? examples/s]"
      ]
     },
     "metadata": {},
     "output_type": "display_data"
    },
    {
     "data": {
      "application/vnd.jupyter.widget-view+json": {
       "model_id": "5ee8d247fee949e8b3b1b4fbde2027f8",
       "version_major": 2,
       "version_minor": 0
      },
      "text/plain": [
       "Generating unsupervised split:   0%|          | 0/50000 [00:00<?, ? examples/s]"
      ]
     },
     "metadata": {},
     "output_type": "display_data"
    }
   ],
   "source": [
    "import torch\n",
    "import torch.nn as nn\n",
    "import torch.optim as optim\n",
    "from torch.utils.data import DataLoader, Dataset\n",
    "from datasets import load_dataset\n",
    "from torch.nn.utils.rnn import pad_sequence\n",
    "from collections import Counter\n",
    "import re\n",
    "\n",
    "# Load IMDb dataset from HuggingFace\n",
    "dataset = load_dataset(\"imdb\")\n",
    "\n",
    "# Tokenizer\n",
    "def simple_tokenizer(text):\n",
    "    text = text.lower()\n",
    "    text = re.sub(r\"<.*?>\", \" \", text)  # remove HTML\n",
    "    text = re.sub(r\"[^\\w\\s]\", \"\", text)  # remove punctuation\n",
    "    return text.split()\n",
    "\n",
    "# Build vocabulary\n",
    "counter = Counter()\n",
    "for example in dataset[\"train\"]:\n",
    "    tokens = simple_tokenizer(example[\"text\"])\n",
    "    counter.update(tokens)\n",
    "\n",
    "vocab = {\"<pad>\": 0, \"<unk>\": 1}\n",
    "for word, freq in counter.items():\n",
    "    if freq >= 5:  # remove rare words\n",
    "        vocab[word] = len(vocab)\n",
    "\n",
    "# Encode text\n",
    "def encode(text):\n",
    "    return [vocab.get(token, vocab[\"<unk>\"]) for token in simple_tokenizer(text)]\n",
    "\n",
    "# IMDb Dataset class\n",
    "class IMDBDataset(Dataset):\n",
    "    def __init__(self, split):\n",
    "        self.data = dataset[split]\n",
    "\n",
    "    def __len__(self):\n",
    "        return len(self.data)\n",
    "\n",
    "    def __getitem__(self, idx):\n",
    "        text = encode(self.data[idx][\"text\"])\n",
    "        label = torch.tensor(self.data[idx][\"label\"], dtype=torch.float)\n",
    "        return torch.tensor(text, dtype=torch.long), label\n",
    "\n",
    "# Collate function to pad sequences\n",
    "def collate_batch(batch):\n",
    "    texts, labels = zip(*batch)\n",
    "    padded = pad_sequence(texts, batch_first=True, padding_value=0)\n",
    "    labels = torch.tensor(labels)\n",
    "    return padded, labels\n",
    "\n",
    "# DataLoaders\n",
    "train_loader = DataLoader(IMDBDataset(\"train\"), batch_size=64, shuffle=True, collate_fn=collate_batch)\n",
    "test_loader = DataLoader(IMDBDataset(\"test\"), batch_size=64, shuffle=False, collate_fn=collate_batch)\n"
   ]
  },
  {
   "cell_type": "code",
   "execution_count": null,
   "id": "a9e044e6",
   "metadata": {},
   "outputs": [],
   "source": [
    "class VanillaRNN(nn.Module):\n",
    "    def __init__(self, vocab_size, embed_dim, hidden_dim):\n",
    "        super(VanillaRNN, self).__init__()\n",
    "        self.embedding = nn.Embedding(vocab_size, embed_dim, padding_idx=0)\n",
    "        self.rnn = nn.RNN(embed_dim, hidden_dim, batch_first=True)\n",
    "        self.fc = nn.Linear(hidden_dim, 1)\n",
    "        self.sigmoid = nn.Sigmoid()\n",
    "\n",
    "    def forward(self, x):\n",
    "        embedded = self.embedding(x)\n",
    "        output, hidden = self.rnn(embedded)   ## h_t = wx x_t + wh h_t-1 + b\n",
    "        out = self.fc(hidden.squeeze(0))\n",
    "        return self.sigmoid(out)\n"
   ]
  },
  {
   "cell_type": "code",
   "execution_count": 12,
   "id": "63ee1109",
   "metadata": {},
   "outputs": [
    {
     "name": "stdout",
     "output_type": "stream",
     "text": [
      "Epoch 1, Loss: 0.6932\n",
      "Epoch 2, Loss: 0.6971\n",
      "Epoch 3, Loss: 0.6954\n",
      "Test Accuracy: 0.5097\n"
     ]
    }
   ],
   "source": [
    "device = torch.device(\"cuda\" if torch.cuda.is_available() else \"cpu\")\n",
    "\n",
    "model = VanillaRNN(vocab_size=len(vocab), embed_dim=100, hidden_dim=128).to(device)\n",
    "criterion = nn.BCELoss()\n",
    "optimizer = optim.Adam(model.parameters(), lr=0.001)\n",
    "\n",
    "# Training loop\n",
    "for epoch in range(3):  # Reduce epochs to avoid long training time\n",
    "    model.train()\n",
    "    total_loss = 0\n",
    "    for inputs, labels in train_loader:\n",
    "        inputs, labels = inputs.to(device), labels.to(device)\n",
    "        optimizer.zero_grad()\n",
    "        outputs = model(inputs).squeeze()\n",
    "        loss = criterion(outputs, labels)\n",
    "        loss.backward()\n",
    "        optimizer.step()\n",
    "        total_loss += loss.item()\n",
    "    print(f\"Epoch {epoch+1}, Loss: {total_loss / len(train_loader):.4f}\")\n",
    "\n",
    "# Evaluation\n",
    "model.eval()\n",
    "correct, total = 0, 0\n",
    "with torch.no_grad():\n",
    "    for inputs, labels in test_loader:\n",
    "        inputs, labels = inputs.to(device), labels.to(device)\n",
    "        outputs = model(inputs).squeeze()\n",
    "        preds = (outputs >= 0.5).float()\n",
    "        correct += (preds == labels).sum().item()\n",
    "        total += labels.size(0)\n",
    "\n",
    "print(f\"Test Accuracy: {correct / total:.4f}\")\n"
   ]
  },
  {
   "cell_type": "code",
   "execution_count": 13,
   "id": "be46ca7f",
   "metadata": {},
   "outputs": [
    {
     "name": "stdout",
     "output_type": "stream",
     "text": [
      "\n",
      "🧪 Sample Test Predictions:\n",
      "\n",
      "Sample 1\n",
      "📄 Review (truncated): this hugely entertaining short is considered one of the best shorts ever and i certainly wont argue with that even in a country where topnotch animated shorts are created with <unk> this film still manages to stand out if you ever get the chance to view this film please do\n",
      "✅ Predicted: negative\n",
      "🟡 Actual:    positive\n",
      "------------------------------------------------------------\n",
      "Sample 2\n",
      "📄 Review (truncated): i watched it because my friend said we could try it when my father asked if wed watch it i didnt want to because it was such an old film how could that be good i finally did watch with that friend and my father my friend and i loved\n",
      "✅ Predicted: negative\n",
      "🟡 Actual:    positive\n",
      "------------------------------------------------------------\n",
      "Sample 3\n",
      "📄 Review (truncated): <unk> of hand is my favorite rockford files episode of the entire series this episode shows a side of jim rockford that is usually ignored to wit jim is genuinely in love with a beautiful woman and is shown as a father figure to her young daughter the woman is\n",
      "✅ Predicted: negative\n",
      "🟡 Actual:    positive\n",
      "------------------------------------------------------------\n",
      "Sample 4\n",
      "📄 Review (truncated): my age 13 james cole played by steven seagal is sent to help detective jim campbell played by <unk> ivory wayans solve a series of killings in which the victims are crucified since cole has arrived on the spot he notices that the killings have changed a little and thinks\n",
      "✅ Predicted: negative\n",
      "🟡 Actual:    negative\n",
      "------------------------------------------------------------\n",
      "Sample 5\n",
      "📄 Review (truncated): paul naschy as a ghostly security guard in this is scarier than most of his <unk> werewolf <unk> the story is not unfamiliar a bunch of kids going to party at an abandoned school the thing is that one of these kids fathers did the same thing years ago but\n",
      "✅ Predicted: positive\n",
      "🟡 Actual:    positive\n",
      "------------------------------------------------------------\n"
     ]
    }
   ],
   "source": [
    "import random\n",
    "\n",
    "# Get a few random samples from the test set\n",
    "sample_indices = random.sample(range(len(test_loader.dataset)), 5)\n",
    "samples = [test_loader.dataset[i] for i in sample_indices]\n",
    "\n",
    "model.eval()\n",
    "print(\"\\n🧪 Sample Test Predictions:\\n\")\n",
    "for i, (text_tensor, true_label) in enumerate(samples):\n",
    "    input_ids = text_tensor.unsqueeze(0).to(device)\n",
    "    with torch.no_grad():\n",
    "        output = model(input_ids).item()\n",
    "        pred_label = 1 if output >= 0.5 else 0\n",
    "\n",
    "    # Decode the input back to readable text\n",
    "    inv_vocab = {idx: word for word, idx in vocab.items()}\n",
    "    words = [inv_vocab.get(idx.item(), \"<unk>\") for idx in text_tensor[:50]]  # show only first 50 tokens\n",
    "\n",
    "    print(f\"Sample {i+1}\")\n",
    "    print(f\"📄 Review (truncated): {' '.join(words)}\")\n",
    "    print(f\"✅ Predicted: {'positive' if pred_label else 'negative'}\")\n",
    "    print(f\"🟡 Actual:    {'positive' if int(true_label) else 'negative'}\")\n",
    "    print(\"-\" * 60)\n"
   ]
  },
  {
   "cell_type": "code",
   "execution_count": null,
   "id": "0a0c1280",
   "metadata": {},
   "outputs": [],
   "source": []
  }
 ],
 "metadata": {
  "kernelspec": {
   "display_name": "Python 3",
   "language": "python",
   "name": "python3"
  },
  "language_info": {
   "codemirror_mode": {
    "name": "ipython",
    "version": 3
   },
   "file_extension": ".py",
   "mimetype": "text/x-python",
   "name": "python",
   "nbconvert_exporter": "python",
   "pygments_lexer": "ipython3",
   "version": "3.13.3"
  }
 },
 "nbformat": 4,
 "nbformat_minor": 5
}
