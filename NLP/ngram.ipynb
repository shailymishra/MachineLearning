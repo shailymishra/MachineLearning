{
 "cells": [
  {
   "cell_type": "code",
   "execution_count": 4,
   "id": "bab28f35",
   "metadata": {},
   "outputs": [
    {
     "name": "stdout",
     "output_type": "stream",
     "text": [
      "Next word prediction for context ['I', 'love'] → deep\n",
      "P('machine' | 'I', 'love') = 0.5\n",
      "P('learning' | 'I', 'love') = 0.0\n"
     ]
    }
   ],
   "source": [
    "from collections import defaultdict\n",
    "import random\n",
    "\n",
    "class NGramLanguageModel:\n",
    "    def __init__(self, n):\n",
    "        self.n = n\n",
    "        self.ngram_counts = defaultdict(int)\n",
    "        self.context_counts = defaultdict(int)\n",
    "        self.vocab = set()\n",
    "\n",
    "    def train(self, corpus):\n",
    "        for sentence in corpus:\n",
    "            tokens = ['<s>'] * (self.n - 1) + sentence + ['</s>']\n",
    "            self.vocab.update(tokens)\n",
    "\n",
    "            for i in range(len(tokens) - self.n + 1):\n",
    "                context = tuple(tokens[i:i+self.n-1])\n",
    "                word = tokens[i + self.n - 1]\n",
    "                self.ngram_counts[context + (word,)] += 1\n",
    "                self.context_counts[context] += 1\n",
    "\n",
    "    def predict_next(self, context):\n",
    "        context = tuple(context[-(self.n - 1):])\n",
    "        candidates = {word: self.ngram_counts[context + (word,)] for word in self.vocab}\n",
    "        total = self.context_counts.get(context, 0)\n",
    "\n",
    "        if total == 0:\n",
    "            return random.choice(list(self.vocab))  # unseen context\n",
    "\n",
    "        probabilities = {word: count / total for word, count in candidates.items() if count > 0}\n",
    "        return max(probabilities, key=probabilities.get)\n",
    "\n",
    "    def get_probability(self, context, word):\n",
    "        context = tuple(context[-(self.n - 1):])\n",
    "        count_ngram = self.ngram_counts.get(context + (word,), 0)\n",
    "        count_context = self.context_counts.get(context, 0)\n",
    "        if count_context == 0:\n",
    "            return 0.0  # zero denominator\n",
    "        return count_ngram / count_context\n",
    "\n",
    "\n",
    "# Example usage:\n",
    "corpus = [\n",
    "    [\"I\", \"love\", \"machine\", \"learning\"],\n",
    "    [\"I\", \"love\", \"deep\", \"learning\"],\n",
    "    [\"deep\", \"learning\", \"is\", \"fun\"],\n",
    "    [\"machine\", \"learning\", \"is\", \"powerful\"]\n",
    "]\n",
    "\n",
    "model = NGramLanguageModel(n=3)  # Trigram model\n",
    "model.train(corpus)\n",
    "\n",
    "context = [\"I\", \"love\"]\n",
    "print(\"Next word prediction for context\", context, \"→\", model.predict_next(context))\n",
    "\n",
    "print(\"P('machine' | 'I', 'love') =\", model.get_probability([\"I\", \"love\"], \"machine\"))\n",
    "print(\"P('learning' | 'I', 'love') =\", model.get_probability([\"I\", \"love\"], \"learning\"))  # unlikely seen\n"
   ]
  },
  {
   "cell_type": "code",
   "execution_count": null,
   "id": "beb77b4b",
   "metadata": {},
   "outputs": [],
   "source": []
  }
 ],
 "metadata": {
  "kernelspec": {
   "display_name": "Python 3",
   "language": "python",
   "name": "python3"
  },
  "language_info": {
   "codemirror_mode": {
    "name": "ipython",
    "version": 3
   },
   "file_extension": ".py",
   "mimetype": "text/x-python",
   "name": "python",
   "nbconvert_exporter": "python",
   "pygments_lexer": "ipython3",
   "version": "3.13.3"
  }
 },
 "nbformat": 4,
 "nbformat_minor": 5
}
