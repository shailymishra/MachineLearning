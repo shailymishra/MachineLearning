{
 "cells": [
  {
   "cell_type": "code",
   "execution_count": 61,
   "id": "f2695ca3",
   "metadata": {},
   "outputs": [
    {
     "name": "stdout",
     "output_type": "stream",
     "text": [
      "['000', '001', '010', '011', '100', '101', '110', '111']\n"
     ]
    }
   ],
   "source": [
    "\n",
    "path = ''\n",
    "choices = ['0','1']\n",
    "n = 3\n",
    "result = []\n",
    "def gen_binary(path):\n",
    "    if(len(path)==n):\n",
    "        result.append(path)\n",
    "        return\n",
    "\n",
    "    for choice in choices:\n",
    "        gen_binary(path+choice)\n",
    "    \n",
    "\n",
    "gen_binary('')\n",
    "print(result)\n",
    "\n",
    "\n"
   ]
  },
  {
   "cell_type": "code",
   "execution_count": 19,
   "id": "f2bcda92",
   "metadata": {},
   "outputs": [
    {
     "name": "stdout",
     "output_type": "stream",
     "text": [
      "..2...[3]\n",
      "popped path []\n",
      "..1...[2]\n",
      "..2...[2, 3]\n",
      "popped path [2]\n",
      "popped path []\n",
      "..0...[1]\n",
      "..2...[1, 3]\n",
      "popped path [1]\n",
      "..1...[1, 2]\n",
      "..2...[1, 2, 3]\n",
      "popped path [1, 2]\n",
      "popped path [1]\n",
      "popped path []\n",
      "[[], [3], [2], [2, 3], [1], [1, 3], [1, 2], [1, 2, 3]]\n"
     ]
    }
   ],
   "source": [
    "def backtrack(i, path):\n",
    "    if i == len(nums):\n",
    "        result.append(path.copy())\n",
    "        return\n",
    "\n",
    "    # 1) choice: exclude nums[i]\n",
    "    backtrack(i+1, path)\n",
    "    # 2) choice: include nums[i]\n",
    "    path.append(nums[i])\n",
    "    print(f'..{i}...{path}')\n",
    "    backtrack(i+1, path)    \n",
    "    path.pop()   # undo the include\n",
    "    print('popped path', path)\n",
    "\n",
    "nums = [1,2,3]\n",
    "result = []\n",
    "backtrack(0, [])\n",
    "print(result)\n"
   ]
  },
  {
   "cell_type": "code",
   "execution_count": null,
   "id": "0280b233",
   "metadata": {},
   "outputs": [
    {
     "data": {
      "text/plain": [
       "''"
      ]
     },
     "execution_count": 6,
     "metadata": {},
     "output_type": "execute_result"
    }
   ],
   "source": [
    "path"
   ]
  },
  {
   "cell_type": "code",
   "execution_count": null,
   "id": "4001fe52",
   "metadata": {},
   "outputs": [
    {
     "name": "stdout",
     "output_type": "stream",
     "text": [
      "['0000', '0001', '0010', '0011', '0100', '0101', '0110', '0111', '1000', '1001', '1010', '1011', '1100', '1101', '1110', '1111']\n"
     ]
    }
   ],
   "source": [
    "path = ''\n",
    "n = 4\n",
    "choices = ['0','1']\n",
    "result = []\n",
    "def gen_combination(path):\n",
    "    if(len(path)==n):\n",
    "        result.append(path)\n",
    "        return\n",
    "\n",
    "    ## include on of the choice and recursive\n",
    "    for choice in choices:\n",
    "        gen_combination(path+choice)\n",
    "\n",
    "gen_combination('')\n",
    "print(result)\n",
    "\n",
    "    \n",
    "    "
   ]
  },
  {
   "cell_type": "code",
   "execution_count": null,
   "id": "048e9d7a",
   "metadata": {},
   "outputs": [
    {
     "name": "stdout",
     "output_type": "stream",
     "text": [
      "['000', '001', '010', '011', '100', '101', '110', '111']\n"
     ]
    }
   ],
   "source": [
    "path = []\n",
    "choice = ['0','1']\n",
    "result = []\n",
    "n = 3\n",
    "\n",
    "def gen_combination(path):\n",
    "    if(len(path)==n):\n",
    "        result.append(''.join(path))\n",
    "        return\n",
    "    \n",
    "    for choice in choices:\n",
    "        path.append(choice)\n",
    "        gen_combination(path)\n",
    "        path.pop()\n",
    "\n",
    "gen_combination([])\n",
    "print(result)"
   ]
  },
  {
   "cell_type": "code",
   "execution_count": null,
   "id": "1462f7cf",
   "metadata": {},
   "outputs": [
    {
     "name": "stdout",
     "output_type": "stream",
     "text": [
      "[[], ['o'], ['n'], ['n', 'o'], ['m'], ['m', 'o'], ['m', 'n'], ['m', 'n', 'o']]\n"
     ]
    }
   ],
   "source": [
    "##\n",
    "choices = ['m','n','o']\n",
    "n = len(choices)\n",
    "result = []\n",
    "## to include current element or not\n",
    "def gen_subset(i,path):\n",
    "    if i == n:\n",
    "        result.append(path.copy())\n",
    "        return\n",
    "    \n",
    "    ## to exclude choices[i]\n",
    "    gen_subset(i+1,path)\n",
    "\n",
    "    ## to include choices[i]\n",
    "    path.append(choices[i])\n",
    "    gen_subset(i+1,path)\n",
    "    path.pop()\n",
    "\n",
    "gen_subset(0,[])\n",
    "print(result)\n"
   ]
  },
  {
   "cell_type": "code",
   "execution_count": null,
   "id": "14d55af7",
   "metadata": {},
   "outputs": [
    {
     "name": "stdout",
     "output_type": "stream",
     "text": [
      "['abc', 'acb', 'bac', 'bca', 'cab', 'cba']\n"
     ]
    }
   ],
   "source": [
    "n = 3\n",
    "choices = ['a','b','c']\n",
    "result= []\n",
    "def gen_permutation(path,choices):\n",
    "\n",
    "    if(len(path)==n):\n",
    "        result.append(path)\n",
    "        return\n",
    "    \n",
    "    for i,choice in enumerate(choices):\n",
    "        updated_choice=choices.copy()\n",
    "        del updated_choice[i]\n",
    "        gen_permutation(path+choice,updated_choice)\n",
    "\n",
    "\n",
    "\n",
    "gen_permutation('',choices)\n",
    "print(result)\n",
    "\n"
   ]
  },
  {
   "cell_type": "code",
   "execution_count": null,
   "id": "3a3dde48",
   "metadata": {},
   "outputs": [
    {
     "name": "stdout",
     "output_type": "stream",
     "text": [
      "['abc', 'acb', 'bac', 'bca', 'cab', 'cba']\n"
     ]
    }
   ],
   "source": [
    "n = 3\n",
    "choices  = ['a','b','c']\n",
    "\n",
    "used = [False]*len(choices)\n",
    "result = []\n",
    "def gen_permutations(path):\n",
    "    if(len(path)==n):\n",
    "        result.append(''.join(path))\n",
    "        return\n",
    "\n",
    "    for i,choice in enumerate(choices):\n",
    "        if(used[i]==False):\n",
    "            used[i]=True\n",
    "            path.append(choice)\n",
    "            gen_permutations(path)\n",
    "            path.pop()\n",
    "            used[i]=False\n",
    "\n",
    "gen_permutations([])\n",
    "print(result)"
   ]
  },
  {
   "cell_type": "code",
   "execution_count": null,
   "id": "ce2fdc61",
   "metadata": {},
   "outputs": [
    {
     "data": {
      "text/plain": [
       "24"
      ]
     },
     "execution_count": 24,
     "metadata": {},
     "output_type": "execute_result"
    }
   ],
   "source": [
    "len(result)"
   ]
  },
  {
   "cell_type": "code",
   "execution_count": null,
   "id": "745e5378",
   "metadata": {},
   "outputs": [
    {
     "name": "stdout",
     "output_type": "stream",
     "text": [
      "['123', '124', '134', '234']\n"
     ]
    }
   ],
   "source": [
    "choices = ['1','2','3','4']\n",
    "k =3\n",
    "result = []\n",
    "\n",
    "def gen_nchosek(i,path):\n",
    "    if(len(path)==k):\n",
    "        result.append(''.join(path))\n",
    "        return\n",
    "    \n",
    "    for j,choice in enumerate(choices[i:]):\n",
    "        path.append(choice)\n",
    "        gen_nchosek(i+j+1,path)\n",
    "        path.pop()\n",
    "    \n",
    "\n",
    "gen_nchosek(0,[])\n",
    "print(result)"
   ]
  },
  {
   "cell_type": "code",
   "execution_count": null,
   "id": "55d69fd8",
   "metadata": {},
   "outputs": [
    {
     "data": {
      "text/plain": [
       "['12']"
      ]
     },
     "execution_count": 31,
     "metadata": {},
     "output_type": "execute_result"
    }
   ],
   "source": []
  },
  {
   "cell_type": "code",
   "execution_count": null,
   "id": "3e361505",
   "metadata": {},
   "outputs": [
    {
     "data": {
      "text/plain": [
       "['123', '124', '134', '234']"
      ]
     },
     "execution_count": 52,
     "metadata": {},
     "output_type": "execute_result"
    }
   ],
   "source": [
    "def ge_nchoosek(choices,k):\n",
    "    result = []\n",
    "    n = len(choices)\n",
    "\n",
    "    \n",
    "    def backtrack(start,path):\n",
    "\n",
    "        if(len(path)==k):\n",
    "            result.append(''.join(path))\n",
    "            return\n",
    "        \n",
    "        ## if not enough element left in path : skip the path\n",
    "        remaining_element = n-start\n",
    "        remaining_element_in_path = k-len(path)\n",
    "\n",
    "        if(remaining_element < remaining_element_in_path):\n",
    "            return\n",
    "        \n",
    "\n",
    "        for i in range(start,len(choices)):\n",
    "            path.append(choices[i])\n",
    "            backtrack(i+1,path)\n",
    "            path.pop()\n",
    "        \n",
    "    backtrack(0,[])\n",
    "\n",
    "    return result\n",
    "\n",
    "\n",
    "ge_nchoosek(choices,3)"
   ]
  },
  {
   "cell_type": "code",
   "execution_count": null,
   "id": "43976a0c",
   "metadata": {},
   "outputs": [
    {
     "name": "stdout",
     "output_type": "stream",
     "text": [
      "[False, False, False, False, False, False]\n"
     ]
    }
   ],
   "source": [
    "# Exercise 5: Generating well-formed parentheses for n pairs.\n",
    "\n",
    "def gen_parentheses(n):\n",
    "    brackets = ['(']*n\n",
    "    close_bracket = [')']*n\n",
    "    brackets.extend(close_bracket)\n",
    "\n",
    "    result = []\n",
    "    def isValid(path):\n",
    "        parathesis = path.copy()\n",
    "        \n",
    "        while(len(parathesis)!=0):\n",
    "\n",
    "        return True\n",
    "    \n",
    "    used = [False]*(2*n)\n",
    "    print(used)\n",
    "    def backtrack(path):\n",
    "        if(len(path)==2*n):\n",
    "            if(isValid(path)):\n",
    "                result.append(''.join(path))\n",
    "            return\n",
    "\n",
    "        for i,choice in enumerate(brackets):\n",
    "            if(used[i]==False):\n",
    "                path.append(choice)\n",
    "                if(choice == ')'):\n",
    "                    if(path[-1]=='('):\n",
    "\n",
    "                if(isValid(path)):\n",
    "                    used[i]=True\n",
    "                    backtrack(path)\n",
    "                used[i]=False\n",
    "                path.pop()\n",
    "\n",
    "    backtrack([])\n",
    "    return result\n",
    "\n",
    "\n",
    "\n",
    "\n",
    "value = gen_parentheses(3)"
   ]
  },
  {
   "cell_type": "code",
   "execution_count": 66,
   "id": "367d9c95",
   "metadata": {},
   "outputs": [
    {
     "name": "stdout",
     "output_type": "stream",
     "text": [
      "which block it is going into 0 0\n",
      "which block it is going into 1 0\n",
      "which block it is going into 2 0\n",
      "which block it is going into 3 0\n",
      "which block it is going into 3 1\n",
      "which block it is going into 3 2\n",
      "which block it is going into 2 1\n",
      "which block it is going into 3 1\n",
      "which block it is going into 3 2\n",
      "which block it is going into 2 2\n",
      "which block it is going into 3 2\n",
      "which block it is going into 1 1\n",
      "which block it is going into 2 1\n",
      "which block it is going into 3 1\n",
      "which block it is going into 3 2\n",
      "which block it is going into 2 2\n",
      "which block it is going into 3 2\n"
     ]
    },
    {
     "data": {
      "text/plain": [
       "['((()))', '(()())', '(())()', '()(())', '()()()']"
      ]
     },
     "execution_count": 66,
     "metadata": {},
     "output_type": "execute_result"
    }
   ],
   "source": [
    "def generate_parens(n):\n",
    "    result = []\n",
    "    path   = []\n",
    "\n",
    "    def backtrack(open_count, close_count):\n",
    "        # base case\n",
    "        if open_count == n and close_count == n:\n",
    "            result.append(''.join(path))\n",
    "            return\n",
    "\n",
    "        # choice 1: add '(\n",
    "        print('which block it is going into', open_count , close_count)\n",
    "        if open_count < n:\n",
    "            path.append('(')\n",
    "            backtrack(open_count + 1, close_count)\n",
    "            path.pop()\n",
    "\n",
    "        # choice 2: add ')'\n",
    "        if close_count < open_count:\n",
    "            path.append(')')\n",
    "            backtrack(open_count, close_count + 1)\n",
    "            path.pop()\n",
    "\n",
    "    backtrack(0, 0)\n",
    "    return result\n",
    "\n",
    "result = generate_parens(3)\n",
    "result"
   ]
  },
  {
   "cell_type": "code",
   "execution_count": null,
   "id": "02d1ed65",
   "metadata": {},
   "outputs": [
    {
     "data": {
      "text/plain": [
       "['(((())))',\n",
       " '((()()))',\n",
       " '((())())',\n",
       " '((()))()',\n",
       " '(()(()))',\n",
       " '(()()())',\n",
       " '(()())()',\n",
       " '(())(())',\n",
       " '(())()()',\n",
       " '()((()))',\n",
       " '()(()())',\n",
       " '()(())()',\n",
       " '()()(())',\n",
       " '()()()()']"
      ]
     },
     "execution_count": 3,
     "metadata": {},
     "output_type": "execute_result"
    }
   ],
   "source": [
    "## brute force method\n",
    "def gen_parenthesis_v1(n):\n",
    "\n",
    "    choices = ['(',')']\n",
    "    result = []\n",
    "    def isValid(path):\n",
    "        balance = 0\n",
    "        for bracket in path:\n",
    "            if(bracket == '('):\n",
    "                balance+=1\n",
    "            else:\n",
    "                balance-=1\n",
    "            if(balance<0):\n",
    "                return False\n",
    "        if(balance==0):\n",
    "            return True\n",
    "\n",
    "    def backtrack(path):\n",
    "        if(len(path)==2*n):\n",
    "            if(isValid(path)):\n",
    "                result.append(''.join(path))\n",
    "            return\n",
    "\n",
    "        for choice in choices:\n",
    "            path.append(choice)\n",
    "            backtrack(path)\n",
    "            path.pop()\n",
    "\n",
    "    backtrack([])\n",
    "\n",
    "    return result\n",
    "\n",
    "gen_parenthesis_v1(4)        \n",
    "\n"
   ]
  },
  {
   "cell_type": "code",
   "execution_count": 10,
   "id": "f7424a20",
   "metadata": {},
   "outputs": [
    {
     "data": {
      "text/plain": [
       "['((()))', '(()())', '(())()', '()(())', '()()()']"
      ]
     },
     "execution_count": 10,
     "metadata": {},
     "output_type": "execute_result"
    }
   ],
   "source": [
    "## brute force + pre punning\n",
    "\n",
    "def gen_parenthesis_v2(n):\n",
    "\n",
    "    choices = ['(',')']\n",
    "    result = []\n",
    "\n",
    "    def is_prefix_valid(path):\n",
    "        balance = 0\n",
    "        for c in path:\n",
    "            if(c=='('):\n",
    "                balance+=1\n",
    "            else:\n",
    "                balance-=1\n",
    "            if(balance<0):\n",
    "                return False\n",
    "        return True\n",
    "\n",
    "    def backtrack(path):\n",
    "        if(len(path) == 2*n ):\n",
    "            if(is_prefix_valid(path) and path.count(')')==n):\n",
    "                result.append(''.join(path))\n",
    "            return\n",
    "        \n",
    "        for choice in choices:\n",
    "            path.append(choice)\n",
    "            if(is_prefix_valid(path)):\n",
    "                backtrack(path)\n",
    "            path.pop()\n",
    "\n",
    "    \n",
    "    backtrack([])\n",
    "\n",
    "    return result\n",
    "\n",
    "\n",
    "gen_parenthesis_v2(3)"
   ]
  },
  {
   "cell_type": "code",
   "execution_count": 16,
   "id": "78ccca9b",
   "metadata": {},
   "outputs": [
    {
     "data": {
      "text/plain": [
       "['((()))', '(()())', '(())()', '()(())', '()()()']"
      ]
     },
     "execution_count": 16,
     "metadata": {},
     "output_type": "execute_result"
    }
   ],
   "source": [
    "# “Can I add a (? Yes iff opens < n.\n",
    "# “Can I add a )? Yes iff closes < opens.”\n",
    "\n",
    "def gen_parenthesis_v3(n):\n",
    "    choices = ['(',')']\n",
    "    result = []\n",
    "    def backtrack(open_count,close_count):\n",
    "        if(open_count==n and close_count==n):\n",
    "            result.append(''.join(path))\n",
    "            return\n",
    "        \n",
    "        if(open_count<n):\n",
    "            path.append('(')\n",
    "            backtrack(open_count+1,close_count)\n",
    "            path.pop()\n",
    "\n",
    "        if(close_count<open_count):\n",
    "            path.append(')')\n",
    "            backtrack(open_count,close_count+1)\n",
    "            path.pop()\n",
    "    \n",
    "    path = []\n",
    "    backtrack(0,0)\n",
    "\n",
    "    return result\n",
    "\n",
    "gen_parenthesis_v3(3)\n",
    "\n"
   ]
  },
  {
   "cell_type": "code",
   "execution_count": null,
   "id": "b0d504f6",
   "metadata": {},
   "outputs": [],
   "source": []
  }
 ],
 "metadata": {
  "kernelspec": {
   "display_name": "Python 3",
   "language": "python",
   "name": "python3"
  },
  "language_info": {
   "codemirror_mode": {
    "name": "ipython",
    "version": 3
   },
   "file_extension": ".py",
   "mimetype": "text/x-python",
   "name": "python",
   "nbconvert_exporter": "python",
   "pygments_lexer": "ipython3",
   "version": "3.13.3"
  }
 },
 "nbformat": 4,
 "nbformat_minor": 5
}
